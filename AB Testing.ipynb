{
 "cells": [
  {
   "cell_type": "markdown",
   "id": "f6f1ae15",
   "metadata": {},
   "source": [
    "# E-commerce A/B Testing"
   ]
  },
  {
   "cell_type": "markdown",
   "id": "c97b06e6",
   "metadata": {},
   "source": [
    "An e-commerce company is testing a new web page design to see if it improves customer conversion rates(product purchases). We shall conduct an A/B test based on the provided data on user interactions with both the new and old pages. We'll analyze this data to help the company decide whether to adopt the new design or stick with the old one.\n",
    "\n",
    "The data includes user IDs, timestamps, group assignments (new vs. old page), landing page types, and conversion outcomes. By digging into these details, we can obtain valuable insights to guide the company's decision-making and potentially boost their sales."
   ]
  },
  {
   "cell_type": "code",
   "execution_count": 1,
   "id": "450218c3",
   "metadata": {},
   "outputs": [],
   "source": [
    "#Importing all the required libraries\n",
    "import numpy as np\n",
    "import pandas as pd\n",
    "import matplotlib.pyplot as plt\n",
    "# import seaborn as sns\n",
    "import statsmodels.api as sm\n",
    "from scipy.stats import chi2_contingency\n",
    "import numba \n",
    "\n",
    "import warnings\n",
    "warnings.filterwarnings('ignore')\n",
    "\n",
    "# Setting seed\n",
    "np.random.seed(33)"
   ]
  },
  {
   "cell_type": "code",
   "execution_count": 2,
   "id": "d5876d53",
   "metadata": {},
   "outputs": [],
   "source": [
    "# Read data\n",
    "df = pd.read_csv(r'ab_data.csv')\n",
    "countries = pd.read_csv(r'countries.csv')"
   ]
  },
  {
   "cell_type": "code",
   "execution_count": 3,
   "id": "c18d0798",
   "metadata": {},
   "outputs": [
    {
     "data": {
      "text/html": [
       "<div>\n",
       "<style scoped>\n",
       "    .dataframe tbody tr th:only-of-type {\n",
       "        vertical-align: middle;\n",
       "    }\n",
       "\n",
       "    .dataframe tbody tr th {\n",
       "        vertical-align: top;\n",
       "    }\n",
       "\n",
       "    .dataframe thead th {\n",
       "        text-align: right;\n",
       "    }\n",
       "</style>\n",
       "<table border=\"1\" class=\"dataframe\">\n",
       "  <thead>\n",
       "    <tr style=\"text-align: right;\">\n",
       "      <th></th>\n",
       "      <th>user_id</th>\n",
       "      <th>timestamp</th>\n",
       "      <th>group</th>\n",
       "      <th>landing_page</th>\n",
       "      <th>converted</th>\n",
       "    </tr>\n",
       "  </thead>\n",
       "  <tbody>\n",
       "    <tr>\n",
       "      <th>0</th>\n",
       "      <td>851104</td>\n",
       "      <td>11:48.6</td>\n",
       "      <td>control</td>\n",
       "      <td>old_page</td>\n",
       "      <td>0</td>\n",
       "    </tr>\n",
       "    <tr>\n",
       "      <th>1</th>\n",
       "      <td>804228</td>\n",
       "      <td>01:45.2</td>\n",
       "      <td>control</td>\n",
       "      <td>old_page</td>\n",
       "      <td>0</td>\n",
       "    </tr>\n",
       "    <tr>\n",
       "      <th>2</th>\n",
       "      <td>661590</td>\n",
       "      <td>55:06.2</td>\n",
       "      <td>treatment</td>\n",
       "      <td>new_page</td>\n",
       "      <td>0</td>\n",
       "    </tr>\n",
       "    <tr>\n",
       "      <th>3</th>\n",
       "      <td>853541</td>\n",
       "      <td>28:03.1</td>\n",
       "      <td>treatment</td>\n",
       "      <td>new_page</td>\n",
       "      <td>0</td>\n",
       "    </tr>\n",
       "    <tr>\n",
       "      <th>4</th>\n",
       "      <td>864975</td>\n",
       "      <td>52:26.2</td>\n",
       "      <td>control</td>\n",
       "      <td>old_page</td>\n",
       "      <td>1</td>\n",
       "    </tr>\n",
       "  </tbody>\n",
       "</table>\n",
       "</div>"
      ],
      "text/plain": [
       "   user_id timestamp      group landing_page  converted\n",
       "0   851104   11:48.6    control     old_page          0\n",
       "1   804228   01:45.2    control     old_page          0\n",
       "2   661590   55:06.2  treatment     new_page          0\n",
       "3   853541   28:03.1  treatment     new_page          0\n",
       "4   864975   52:26.2    control     old_page          1"
      ]
     },
     "execution_count": 3,
     "metadata": {},
     "output_type": "execute_result"
    }
   ],
   "source": [
    "#A sample of the dataset\n",
    "df.head()"
   ]
  },
  {
   "cell_type": "code",
   "execution_count": 4,
   "id": "3d7a8602",
   "metadata": {},
   "outputs": [
    {
     "data": {
      "text/html": [
       "<div>\n",
       "<style scoped>\n",
       "    .dataframe tbody tr th:only-of-type {\n",
       "        vertical-align: middle;\n",
       "    }\n",
       "\n",
       "    .dataframe tbody tr th {\n",
       "        vertical-align: top;\n",
       "    }\n",
       "\n",
       "    .dataframe thead th {\n",
       "        text-align: right;\n",
       "    }\n",
       "</style>\n",
       "<table border=\"1\" class=\"dataframe\">\n",
       "  <thead>\n",
       "    <tr style=\"text-align: right;\">\n",
       "      <th></th>\n",
       "      <th>user_id</th>\n",
       "      <th>country</th>\n",
       "    </tr>\n",
       "  </thead>\n",
       "  <tbody>\n",
       "    <tr>\n",
       "      <th>0</th>\n",
       "      <td>834778</td>\n",
       "      <td>UK</td>\n",
       "    </tr>\n",
       "    <tr>\n",
       "      <th>1</th>\n",
       "      <td>928468</td>\n",
       "      <td>US</td>\n",
       "    </tr>\n",
       "    <tr>\n",
       "      <th>2</th>\n",
       "      <td>822059</td>\n",
       "      <td>UK</td>\n",
       "    </tr>\n",
       "    <tr>\n",
       "      <th>3</th>\n",
       "      <td>711597</td>\n",
       "      <td>UK</td>\n",
       "    </tr>\n",
       "    <tr>\n",
       "      <th>4</th>\n",
       "      <td>710616</td>\n",
       "      <td>UK</td>\n",
       "    </tr>\n",
       "  </tbody>\n",
       "</table>\n",
       "</div>"
      ],
      "text/plain": [
       "   user_id country\n",
       "0   834778      UK\n",
       "1   928468      US\n",
       "2   822059      UK\n",
       "3   711597      UK\n",
       "4   710616      UK"
      ]
     },
     "execution_count": 4,
     "metadata": {},
     "output_type": "execute_result"
    }
   ],
   "source": [
    "#A sample of the dataset\n",
    "countries.head()"
   ]
  },
  {
   "cell_type": "markdown",
   "id": "b869ac83",
   "metadata": {},
   "source": [
    "# EDA of the Dataset"
   ]
  },
  {
   "cell_type": "markdown",
   "id": "0082e9fe",
   "metadata": {},
   "source": [
    "\n",
    "Checking for missing values is crucial for data reliability. Missing data can distort analyses and impact statistical validity. The code snippet assesses missing values in df and countries, facilitating data exploration."
   ]
  },
  {
   "cell_type": "code",
   "execution_count": 5,
   "id": "9907f339",
   "metadata": {},
   "outputs": [
    {
     "name": "stdout",
     "output_type": "stream",
     "text": [
      "Missing values:\n",
      "user_id         0\n",
      "timestamp       0\n",
      "group           0\n",
      "landing_page    0\n",
      "converted       0\n",
      "dtype: int64\n",
      "user_id    0\n",
      "country    0\n",
      "dtype: int64\n"
     ]
    }
   ],
   "source": [
    "# Check for missing values\n",
    "print(\"Missing values:\")\n",
    "print(df.isna().sum())\n",
    "print(countries.isna().sum())"
   ]
  },
  {
   "cell_type": "markdown",
   "id": "3e7897f7",
   "metadata": {},
   "source": [
    "We shall also check for any data inconsistency in the dataset. Ideally the 'treatment' group should land on 'new_page' and the 'control' group on 'old_page'. "
   ]
  },
  {
   "cell_type": "code",
   "execution_count": 6,
   "id": "6ded5db8",
   "metadata": {
    "scrolled": true
   },
   "outputs": [
    {
     "name": "stdout",
     "output_type": "stream",
     "text": [
      "Number of mismatched rows: 3893 rows\n",
      "Percent of mismatched rows: 1.32 percent\n"
     ]
    }
   ],
   "source": [
    "# Check for data mismatches\n",
    "df_mismatch = df[((df[\"group\"] == \"treatment\") & (df[\"landing_page\"] == \"old_page\")) |\n",
    "                 ((df[\"group\"] == \"control\") & (df[\"landing_page\"] == \"new_page\"))]\n",
    "\n",
    "n_mismatch = df_mismatch.shape[0]\n",
    "percent_mismatch = round(n_mismatch / len(df) * 100, 2)\n",
    "\n",
    "print(f'Number of mismatched rows: {n_mismatch} rows')\n",
    "print(f'Percent of mismatched rows: {percent_mismatch} percent')"
   ]
  },
  {
   "cell_type": "markdown",
   "id": "130063bc",
   "metadata": {},
   "source": [
    "Given the low percentage, we can confidently omit these mismatched rows. This decision is further justified by the minimal impact on the overall data size. Retaining them would introduce inconsistencies that could skew our results and compromise the analysis.\n",
    "\n",
    "While there's no universally accepted threshold for permissible mismatched data, it generally depends on the context and impact on the analysis. In this case, with a small percentage (1.32%) and potential for significant influence on results, omitting these rows aligns with best practices for ensuring data integrity and reliable analysis."
   ]
  },
  {
   "cell_type": "code",
   "execution_count": 7,
   "id": "2f8116e7",
   "metadata": {},
   "outputs": [],
   "source": [
    "# Remove mismatched rows\n",
    "df = df[((df[\"group\"] == \"treatment\") & (df[\"landing_page\"] == \"new_page\")) |\n",
    "        ((df[\"group\"] == \"control\") & (df[\"landing_page\"] == \"old_page\"))]"
   ]
  },
  {
   "cell_type": "markdown",
   "id": "bb975b27",
   "metadata": {},
   "source": [
    "Next we shall check if there any duplicates in the dataset and drop them."
   ]
  },
  {
   "cell_type": "code",
   "execution_count": 8,
   "id": "81373750",
   "metadata": {},
   "outputs": [
    {
     "name": "stdout",
     "output_type": "stream",
     "text": [
      "Number of duplicate user_id: 2\n",
      "Number of duplicate user_id: 1\n"
     ]
    }
   ],
   "source": [
    "# Check for duplicates\n",
    "print(\"Number of duplicate user_id:\", df.duplicated(\"user_id\").sum())\n",
    "print(\"Number of duplicate user_id:\", countries.duplicated(\"user_id\").sum())"
   ]
  },
  {
   "cell_type": "code",
   "execution_count": 9,
   "id": "832eec53",
   "metadata": {},
   "outputs": [],
   "source": [
    "# Drop duplicates\n",
    "df = df.drop_duplicates(\"user_id\")\n",
    "countries = countries.drop_duplicates(\"user_id\")"
   ]
  },
  {
   "cell_type": "markdown",
   "id": "1aebcf28",
   "metadata": {},
   "source": [
    "# Analysis"
   ]
  },
  {
   "cell_type": "markdown",
   "id": "eeec72e7",
   "metadata": {},
   "source": [
    "Before diving into the heart of A/B testing, we're establishing a baseline understanding of conversion rates across different scenarios. This provides a crucial context for interpreting the results of our subsequent analyses.\n",
    "\n",
    "<b><i>Overall Conversion Rate:</i></b> We're calculating the overall conversion rate, representing the proportion of users who convert regardless of the page they land on. This gives us a general sense of the current conversion performance.\n",
    "\n",
    "<b><i>Conversion Rates by Page:</i></b> We're also calculating conversion rates for both the old and new page designs. This allows us to compare their performance directly and identify any initial differences that might warrant further investigation."
   ]
  },
  {
   "cell_type": "code",
   "execution_count": 10,
   "id": "8c0b3e39",
   "metadata": {},
   "outputs": [
    {
     "name": "stdout",
     "output_type": "stream",
     "text": [
      "Overall Conversion Rate is :  11.959667567149026\n",
      "\n",
      "Conversion Rates by Page is as follow: \n",
      "            converted\n",
      "group               \n",
      "control    12.038630\n",
      "treatment  11.880725\n"
     ]
    }
   ],
   "source": [
    "print('Overall Conversion Rate is : ', df.converted.mean() * 100)\n",
    "df.user_id = df.user_id.astype(str)\n",
    "print('\\nConversion Rates by Page is as follow: \\n', df.groupby('group').mean() * 100)"
   ]
  },
  {
   "cell_type": "markdown",
   "id": "cb0795ff",
   "metadata": {},
   "source": [
    "<b>Initial Insights:</b>\n",
    "\n",
    "Our initial exploration reveals an overall conversion rate of 11.96%, highlighting that approximately 12 out of every 100 users convert. Drilling down further, we observe a slightly higher conversion rate for the control group (12.04%) compared to the treatment group (11.88%) using the old and new page designs, respectively. While the difference is small, it prompts further investigation in our A/B testing analysis to determine if this trend is statistically significant and whether the new page design truly impacts conversion rates."
   ]
  },
  {
   "cell_type": "markdown",
   "id": "04eb6aa7",
   "metadata": {},
   "source": [
    "# AB Test"
   ]
  },
  {
   "cell_type": "markdown",
   "id": "2140f598",
   "metadata": {},
   "source": [
    "We're employing a technique called bootstrap sampling to simulate various potential outcomes of the AB test. This involves repeatedly drawing random samples from the original dataset with replacement, effectively creating many alternate versions of the experiment. By comparing conversion rates across these simulated samples, we can gain a robust understanding of the variability in outcomes and assess the statistical significance of any observed differences."
   ]
  },
  {
   "cell_type": "code",
   "execution_count": 11,
   "id": "c70b583e",
   "metadata": {},
   "outputs": [],
   "source": [
    "# Statistical analysis\n",
    "@numba.jit\n",
    "def calculate_means_diff(df, size, n_iterations):\n",
    "    means_diff = np.empty(n_iterations)\n",
    "    for i in range(n_iterations):\n",
    "        sample = df.sample(size, replace=True)\n",
    "        means_diff[i] = sample[sample[\"group\"] == \"treatment\"][\"converted\"].mean() - \\\n",
    "                        sample[sample[\"group\"] == \"control\"][\"converted\"].mean()\n",
    "    return means_diff\n",
    "\n",
    "means_diff = calculate_means_diff(df, df.shape[0], 5000)"
   ]
  },
  {
   "cell_type": "markdown",
   "id": "e37f69d1",
   "metadata": {},
   "source": [
    "We're creating a histogram of the means_diff array to visualize the distribution of potential differences in conversion rates between the treatment and control groups, as simulated through bootstrap sampling."
   ]
  },
  {
   "cell_type": "code",
   "execution_count": 12,
   "id": "19229a0d",
   "metadata": {},
   "outputs": [
    {
     "data": {
      "image/png": "[encoded data removed]",
      "text/plain": [
       "<Figure size 800x400 with 1 Axes>"
      ]
     },
     "metadata": {},
     "output_type": "display_data"
    }
   ],
   "source": [
    "# Plot histograms\n",
    "plt.figure(figsize=(8, 4), dpi=100)\n",
    "plt.hist(means_diff, bins=25)\n",
    "plt.show()"
   ]
  },
  {
   "cell_type": "markdown",
   "id": "6640a548",
   "metadata": {},
   "source": [
    "<b>Hypothesis Testing</b>\n",
    "\n",
    "We're conducting hypothesis testing to assess whether the observed difference in conversion rates between the treatment and control groups is statistically significant or merely due to chance.\n",
    "\n",
    "<b><i>Null Hypothesis (H₀):</b></i>\n",
    "There's no difference in conversion rates between the new and old page designs. Any observed difference is likely due to random variation.\n",
    "\n",
    "<i><b>Alternative Hypothesis (H₁):</b></i>\n",
    "The new page design does impact conversion rates, leading to a difference in conversion rates between the treatment and control groups."
   ]
  },
  {
   "cell_type": "code",
   "execution_count": 13,
   "id": "854e2502",
   "metadata": {},
   "outputs": [],
   "source": [
    "# Hypothesis testing\n",
    "null_vals = np.random.normal(0, means_diff.std(), means_diff.size)\n",
    "obs_diff = df[df[\"group\"] == \"treatment\"][\"converted\"].mean() - df[df[\"group\"] == \"control\"][\"converted\"].mean()"
   ]
  },
  {
   "cell_type": "markdown",
   "id": "c46b40af",
   "metadata": {},
   "source": [
    "<b>Visualizing the Null Distribution and Observed Difference:</b>\n",
    "\n",
    "We're creating a visual representation to compare the observed difference in conversion rates to the null distribution, aiding in hypothesis testing. By looking at where the red line falls, you can get a sense of how unusual it is compared to all the possible results. The further away from the center (0, where there's no difference), the less likely it is due to chance and the stronger the evidence for the new design having an effect."
   ]
  },
  {
   "cell_type": "code",
   "execution_count": 14,
   "id": "99ae5939",
   "metadata": {},
   "outputs": [
    {
     "data": {
      "image/png": "[encoded data removed]",
      "text/plain": [
       "<Figure size 800x400 with 1 Axes>"
      ]
     },
     "metadata": {},
     "output_type": "display_data"
    }
   ],
   "source": [
    "plt.figure(figsize=(8, 4), dpi=100)\n",
    "plt.hist(null_vals, bins=25)\n",
    "plt.axvline(obs_diff, c='red')\n",
    "plt.show()"
   ]
  },
  {
   "cell_type": "markdown",
   "id": "0142b0ca",
   "metadata": {},
   "source": [
    "<b>Calculating the P-value for Statistical Significance:</b>\n",
    "\n",
    "We're now quantifying the likelihood of observing the actual difference in conversion rates (or any more extreme difference) if the null hypothesis were true, using a metric called the p-value."
   ]
  },
  {
   "cell_type": "code",
   "execution_count": 15,
   "id": "2da5bee9",
   "metadata": {},
   "outputs": [
    {
     "name": "stdout",
     "output_type": "stream",
     "text": [
      "p-value: 0.9028\n"
     ]
    }
   ],
   "source": [
    "# Calculate p-value\n",
    "p_value = (null_vals > obs_diff).mean()\n",
    "print(\"p-value:\", p_value)"
   ]
  },
  {
   "cell_type": "markdown",
   "id": "cdf50ff8",
   "metadata": {},
   "source": [
    "<b>Interpreting the P-value:</b>\n",
    "\n",
    "Based on the calculated p-value of 0.9028, it's difficult to conclude with strong statistical significance that the new page design has a meaningful impact on conversion rates.\n",
    "\n",
    "Conventionally, a p-value below 0.05 is considered statistically significant, meaning we can reject the null hypothesis and infer that the observed difference is likely due to the new page design. In this case, the p-value of 0.9028 is high, suggesting there's a 90.28% chance of observing a similar or even larger difference in conversion rates by chance alone, even if the new design has no real effect."
   ]
  },
  {
   "cell_type": "markdown",
   "id": "09029fba",
   "metadata": {},
   "source": [
    "# Chi - Square Test"
   ]
  },
  {
   "cell_type": "markdown",
   "id": "c9c9dd71",
   "metadata": {},
   "source": [
    "The hypothesis testing(using null distribution and p-value) and the chi-square test offer valuable insights into the A/B testing results, but they do so in slightly different ways and provide complementary perspectives.\n",
    "\n",
    "<b><i>Hypothesis Testing:</b></i> Focuses on difference in means and gives us probabilistic interpretation allowing us to reject the null hypothesis with certain level of confidence.\n",
    "\n",
    "<i><b>Chi-Square Test:</b></i>\n",
    "\n",
    "Analyzes overall association: This test evaluates whether the distribution of \"converted\" and \"not converted\" users is independent of the group they belong to (treatment or control).\n",
    "\n",
    "Identifies dependence, not direction: A significant chi-square test indicates a relationship between the groups and conversion, but it doesn't tell us if the treatment group has a higher or lower conversion rate.\n",
    "\n",
    "<i><b>Contingency Table:</b></i>\n",
    "\n",
    "Visualizes the relationship: This table breaks down the conversion counts for each group, offering a clear picture of how conversions are distributed across the treatment and control conditions.\n",
    "\n",
    "Provides more granular insights: By examining individual cells and comparing row/column proportions, we can gain deeper understanding of where potential differences or associations might lie."
   ]
  },
  {
   "cell_type": "code",
   "execution_count": 16,
   "id": "55dfd649",
   "metadata": {},
   "outputs": [],
   "source": [
    "# Chi-square test\n",
    "def chi_square_test(data, group_column, variable):\n",
    "    ct = pd.crosstab(data[group_column], data[variable])\n",
    "    chi2, p, _, _ = chi2_contingency(ct)\n",
    "    print(ct)\n",
    "    return p"
   ]
  },
  {
   "cell_type": "code",
   "execution_count": 17,
   "id": "a83adafa",
   "metadata": {},
   "outputs": [
    {
     "name": "stdout",
     "output_type": "stream",
     "text": [
      "converted       0      1\n",
      "group                   \n",
      "control    127785  17489\n",
      "treatment  128047  17264\n",
      "p-value: 0.19158976298516003\n"
     ]
    }
   ],
   "source": [
    "# Test for independence\n",
    "p_value = chi_square_test(df, \"group\", \"converted\")\n",
    "print('p-value:',p_value)\n",
    "# interpret_results(p_value, \"converted\", \"control\", \"treatment\")"
   ]
  },
  {
   "cell_type": "markdown",
   "id": "1a304619",
   "metadata": {},
   "source": [
    "While the hypothesis testing suggested a close call with a high p-value, the chi-square test adds another layer to the A/B testing analysis. With a p-value of 0.1916, we land in a somewhat inconclusive territory. \n",
    "\n",
    "A p-value of 0.1916 suggests that while there's a possibility of an association, it's not particularly strong. There's a 19.16% chance of observing a similar or even bigger association by chance alone, even if the new design has no real effect.\n",
    "\n",
    "Taking both results together, we can't confidently claim a statistically significant impact of the new page design on conversion rates."
   ]
  },
  {
   "cell_type": "markdown",
   "id": "6c0bb8b3",
   "metadata": {},
   "source": [
    "# Logistic Regression"
   ]
  },
  {
   "cell_type": "markdown",
   "id": "0c43ac62",
   "metadata": {},
   "source": [
    "Logistic regression is a powerful statistical tool that shines in A/B testing scenarios. It delves deeper than just comparing average conversion rates, providing richer insights into how different factors influence the probability of conversion. It accounts for individual user characteristics and predicts conversion probabilities for each user, not just an overall average.\n",
    "\n",
    "The intercept in logistic regression captures the baseline probability of the outcome (conversion) when other predictors are zero. It represents the estimated conversion rate for users in the control group (ab_page = 0). Logistic regression relies on the intercept for accurate modeling, providing the starting point for predictions and allowing the interpretation of coefficient changes in other predictors, like ab_page, while holding other variables constant."
   ]
  },
  {
   "cell_type": "code",
   "execution_count": 18,
   "id": "f4249e4d",
   "metadata": {},
   "outputs": [
    {
     "name": "stdout",
     "output_type": "stream",
     "text": [
      "Optimization terminated successfully.\n",
      "         Current function value: 0.366118\n",
      "         Iterations 6\n",
      "                           Logit Regression Results                           \n",
      "==============================================================================\n",
      "Dep. Variable:              converted   No. Observations:               290585\n",
      "Model:                          Logit   Df Residuals:                   290583\n",
      "Method:                           MLE   Df Model:                            1\n",
      "Date:                Sat, 27 Jan 2024   Pseudo R-squ.:               8.085e-06\n",
      "Time:                        22:32:45   Log-Likelihood:            -1.0639e+05\n",
      "converged:                       True   LL-Null:                   -1.0639e+05\n",
      "Covariance Type:            nonrobust   LLR p-value:                    0.1897\n",
      "==============================================================================\n",
      "                 coef    std err          z      P>|z|      [0.025      0.975]\n",
      "------------------------------------------------------------------------------\n",
      "intercept     -1.9888      0.008   -246.669      0.000      -2.005      -1.973\n",
      "ab_page       -0.0150      0.011     -1.312      0.190      -0.037       0.007\n",
      "==============================================================================\n"
     ]
    }
   ],
   "source": [
    "# Logistic regression\n",
    "df[\"intercept\"] = 1\n",
    "df[\"ab_page\"] = df.group.apply(lambda x: 1 if x == \"treatment\" else 0)\n",
    "\n",
    "# Fit logistic regression model\n",
    "model = sm.Logit(df['converted'], df[['intercept', 'ab_page']])\n",
    "result = model.fit()\n",
    "print(result.summary())"
   ]
  },
  {
   "cell_type": "markdown",
   "id": "fc54a011",
   "metadata": {},
   "source": [
    "<b>Results</b>\n",
    "\n",
    "The coefficient for the ab_page variable is negative (-0.0150), suggesting that being in the treatment group (new page design) might slightly decrease the probability of conversion, but this effect is not statistically significant (p-value = 0.190).\n",
    "\n",
    "<i>Convergence:</i> The model fitting process converged successfully, indicating that reliable estimates were obtained.\n",
    "\n",
    "<i>Pseudo R-squared:</i> This value is extremely low (8.085e-06), suggesting that the model doesn't capture much of the variability in conversion outcomes.\n",
    "\n",
    "<i>Log-Likelihood Ratio Test:</i> The p-value (0.1897) is higher than the typical significance threshold (0.05), further supporting the lack of strong evidence for the new page design's effect."
   ]
  },
  {
   "cell_type": "markdown",
   "id": "b58b95dd",
   "metadata": {},
   "source": [
    "# Further Steps"
   ]
  },
  {
   "cell_type": "markdown",
   "id": "63832f42",
   "metadata": {},
   "source": [
    "Expanding our scope, let's add the 'country' variable to the model. This will reveal if geographic factors play a role in conversion, potentially shedding light on user behavior across different regions."
   ]
  },
  {
   "cell_type": "code",
   "execution_count": 19,
   "id": "033595ec",
   "metadata": {},
   "outputs": [],
   "source": [
    "# Merge with countries data\n",
    "countries.user_id = countries.user_id.astype(str)\n",
    "df = df.merge(countries, on=\"user_id\", how=\"left\")"
   ]
  },
  {
   "cell_type": "markdown",
   "id": "f6ee7a6d",
   "metadata": {},
   "source": [
    "Dummy variables ensure that each category is treated as a unique entity, preventing the model from assuming a natural order or hierarchy among them.\n",
    "This inclusivity prevents potential biases and allows for a more accurate representation of the relationships between variables and the outcome."
   ]
  },
  {
   "cell_type": "code",
   "execution_count": 20,
   "id": "5c468c47",
   "metadata": {},
   "outputs": [],
   "source": [
    "# Create dummy variables\n",
    "df = pd.get_dummies(df, columns=[\"country\", \"landing_page\"], drop_first=True)"
   ]
  },
  {
   "cell_type": "code",
   "execution_count": 21,
   "id": "337e7972",
   "metadata": {},
   "outputs": [
    {
     "name": "stdout",
     "output_type": "stream",
     "text": [
      "Optimization terminated successfully.\n",
      "         Current function value: 0.366112\n",
      "         Iterations 6\n",
      "                           Logit Regression Results                           \n",
      "==============================================================================\n",
      "Dep. Variable:              converted   No. Observations:               290585\n",
      "Model:                          Logit   Df Residuals:                   290581\n",
      "Method:                           MLE   Df Model:                            3\n",
      "Date:                Sat, 27 Jan 2024   Pseudo R-squ.:               2.324e-05\n",
      "Time:                        22:32:48   Log-Likelihood:            -1.0639e+05\n",
      "converged:                       True   LL-Null:                   -1.0639e+05\n",
      "Covariance Type:            nonrobust   LLR p-value:                    0.1758\n",
      "==============================================================================\n",
      "                 coef    std err          z      P>|z|      [0.025      0.975]\n",
      "------------------------------------------------------------------------------\n",
      "intercept     -2.0300      0.027    -76.249      0.000      -2.082      -1.978\n",
      "ab_page       -0.0150      0.011     -1.308      0.191      -0.037       0.007\n",
      "country_UK     0.0506      0.028      1.784      0.074      -0.005       0.106\n",
      "country_US     0.0408      0.027      1.516      0.130      -0.012       0.093\n",
      "==============================================================================\n"
     ]
    }
   ],
   "source": [
    "# Fit logistic regression model with additional variables\n",
    "model = sm.Logit(df['converted'], df[['intercept', 'ab_page', 'country_UK', 'country_US']])\n",
    "result = model.fit()\n",
    "print(result.summary())"
   ]
  },
  {
   "cell_type": "markdown",
   "id": "2170445c",
   "metadata": {},
   "source": [
    "<b>Results</b>\n",
    "\n",
    "The coefficient for ab_page is still negative (-0.0150) but not statistically significant (p-value = 0.191), suggesting a potential decrease in conversion probability for the new design, but we can't confidently conclude it has a meaningful impact.\n",
    "\n",
    "<i>Convergence:</i> The model fitting process converged successfully, indicating reliable estimates.\n",
    "\n",
    "<i>Pseudo R-squared:</i> Still extremely low (2.324e-05), suggesting the model explains very little of the variability in conversion outcomes.\n",
    "\n",
    "<i>Log-Likelihood Ratio Test:</i> The p-value (0.1758) remains above the significance threshold, indicating a lack of strong evidence for the overall model's effectiveness in predicting conversion."
   ]
  },
  {
   "cell_type": "markdown",
   "id": "1242f0c2",
   "metadata": {},
   "source": [
    "# Conclusion"
   ]
  },
  {
   "cell_type": "markdown",
   "id": "be9bafd6",
   "metadata": {},
   "source": [
    "This A/B testing analysis, employing various statistical techniques, has yielded an inconclusive verdict on the new page design's impact on conversion rates.\n",
    "\n",
    "Both hypothesis testing and logistic regression models, with and without additional control variables, failed to provide statistically significant evidence that the new design leads to a systematic shift in conversion rates.\n",
    "\n",
    "The chi-square test suggested a possibility of an association between the design and conversions, but the p-value was not low enough to draw a decisive conclusion.\n",
    "\n",
    "Logistic regression analysis, even after incorporating 'country' as a factor, didn't reveal a meaningful impact of the new design, and the observed country effects lacked statistical significance.\n",
    "Therefore, we cannot confidently recommend adopting the new page design based solely on the A/B testing results presented here."
   ]
  }
 ],
 "metadata": {
  "kernelspec": {
   "display_name": "Python 3 (ipykernel)",
   "language": "python",
   "name": "python3"
  },
  "language_info": {
   "codemirror_mode": {
    "name": "ipython",
    "version": 3
   },
   "file_extension": ".py",
   "mimetype": "text/x-python",
   "name": "python",
   "nbconvert_exporter": "python",
   "pygments_lexer": "ipython3",
   "version": "3.10.9"
  }
 },
 "nbformat": 4,
 "nbformat_minor": 5
}
